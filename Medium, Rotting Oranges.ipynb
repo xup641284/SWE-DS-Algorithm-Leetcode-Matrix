{
 "cells": [
  {
   "cell_type": "markdown",
   "metadata": {},
   "source": [
    "# BFS approach"
   ]
  },
  {
   "cell_type": "code",
   "execution_count": 1,
   "metadata": {},
   "outputs": [
    {
     "name": "stdout",
     "output_type": "stream",
     "text": [
      "4\n"
     ]
    }
   ],
   "source": [
    "from collections import deque\n",
    "\n",
    "def orangesRotting(grid):\n",
    "    if not grid or not grid[0]:\n",
    "        return 0\n",
    "\n",
    "    directions = [(1, 0), (-1, 0), (0, 1), (0, -1)]\n",
    "    queue = deque()\n",
    "    fresh_count = 0\n",
    "    minutes = 0\n",
    "\n",
    "    for row in range(len(grid)):\n",
    "        for col in range(len(grid[0])):\n",
    "            if grid[row][col] == 2:\n",
    "                queue.append((row, col, 0))\n",
    "            elif grid[row][col] == 1:\n",
    "                fresh_count += 1\n",
    "\n",
    "    while queue:\n",
    "        row, col, minutes = queue.popleft()\n",
    "\n",
    "        for dr, dc in directions:\n",
    "            new_row, new_col = row + dr, col + dc\n",
    "\n",
    "            if 0 <= new_row < len(grid) and 0 <= new_col < len(grid[0]) and grid[new_row][new_col] == 1:\n",
    "                grid[new_row][new_col] = 2\n",
    "                fresh_count -= 1\n",
    "                queue.append((new_row, new_col, minutes + 1))\n",
    "\n",
    "    return minutes if fresh_count == 0 else -1\n",
    "\n",
    "# Example usage\n",
    "grid = [\n",
    "    [2, 1, 1],\n",
    "    [1, 1, 0],\n",
    "    [0, 1, 1]\n",
    "]\n",
    "\n",
    "result = orangesRotting(grid)\n",
    "print(result)  # Output: 4\n"
   ]
  },
  {
   "cell_type": "markdown",
   "metadata": {},
   "source": [
    "# BFS approach without using deque"
   ]
  },
  {
   "cell_type": "code",
   "execution_count": 2,
   "metadata": {},
   "outputs": [
    {
     "name": "stdout",
     "output_type": "stream",
     "text": [
      "4\n"
     ]
    }
   ],
   "source": [
    "def oranges_rotting(grid):\n",
    "    if not grid or not grid[0]:\n",
    "        return -1\n",
    "\n",
    "    num_rows, num_cols = len(grid), len(grid[0])\n",
    "    fresh_count = 0\n",
    "    queue = []\n",
    "    directions = [(0, 1), (0, -1), (1, 0), (-1, 0)]\n",
    "    minutes = 0\n",
    "\n",
    "    for i in range(num_rows):\n",
    "        for j in range(num_cols):\n",
    "            if grid[i][j] == 1:\n",
    "                fresh_count += 1\n",
    "            elif grid[i][j] == 2:\n",
    "                queue.append((i, j))\n",
    "\n",
    "    while queue and fresh_count > 0:\n",
    "        next_queue = []\n",
    "        while queue:\n",
    "            x, y = queue.pop(0)\n",
    "\n",
    "            for dx, dy in directions:\n",
    "                nx, ny = x + dx, y + dy\n",
    "                if 0 <= nx < num_rows and 0 <= ny < num_cols and grid[nx][ny] == 1:\n",
    "                    fresh_count -= 1\n",
    "                    grid[nx][ny] = 2\n",
    "                    next_queue.append((nx, ny))\n",
    "\n",
    "        queue = next_queue\n",
    "        if queue:\n",
    "            minutes += 1\n",
    "\n",
    "    return minutes if fresh_count == 0 else -1\n",
    "\n",
    "# Example usage:\n",
    "grid = [\n",
    "    [2, 1, 1],\n",
    "    [1, 1, 0],\n",
    "    [0, 1, 1]\n",
    "]\n",
    "\n",
    "print(oranges_rotting(grid))\n"
   ]
  },
  {
   "cell_type": "code",
   "execution_count": null,
   "metadata": {},
   "outputs": [],
   "source": []
  }
 ],
 "metadata": {
  "kernelspec": {
   "display_name": "Python 3",
   "language": "python",
   "name": "python3"
  },
  "language_info": {
   "codemirror_mode": {
    "name": "ipython",
    "version": 3
   },
   "file_extension": ".py",
   "mimetype": "text/x-python",
   "name": "python",
   "nbconvert_exporter": "python",
   "pygments_lexer": "ipython3",
   "version": "3.7.1"
  }
 },
 "nbformat": 4,
 "nbformat_minor": 2
}
