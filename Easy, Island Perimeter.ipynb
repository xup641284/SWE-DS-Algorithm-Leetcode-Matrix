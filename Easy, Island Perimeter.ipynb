{
 "cells": [
  {
   "cell_type": "code",
   "execution_count": 1,
   "metadata": {},
   "outputs": [
    {
     "name": "stdout",
     "output_type": "stream",
     "text": [
      "Island Perimeter: 16\n"
     ]
    }
   ],
   "source": [
    "def island_perimeter(grid):\n",
    "    perimeter = 0\n",
    "    rows, cols = len(grid), len(grid[0])\n",
    "\n",
    "    for r in range(rows):\n",
    "        for c in range(cols):\n",
    "            if grid[r][c] == 1:\n",
    "                perimeter += 4\n",
    "\n",
    "                # Check adjacent cells and reduce perimeter based on neighboring land cells\n",
    "                if r > 0 and grid[r - 1][c] == 1:\n",
    "                    perimeter -= 2\n",
    "                if c > 0 and grid[r][c - 1] == 1:\n",
    "                    perimeter -= 2\n",
    "\n",
    "    return perimeter\n",
    "\n",
    "# Example usage:\n",
    "grid = [\n",
    "    [0, 1, 0, 0],\n",
    "    [1, 1, 1, 0],\n",
    "    [0, 1, 0, 0],\n",
    "    [1, 1, 0, 0]\n",
    "]\n",
    "\n",
    "result = island_perimeter(grid)\n",
    "print(\"Island Perimeter:\", result)\n"
   ]
  },
  {
   "cell_type": "code",
   "execution_count": null,
   "metadata": {},
   "outputs": [],
   "source": []
  }
 ],
 "metadata": {
  "kernelspec": {
   "display_name": "Python 3",
   "language": "python",
   "name": "python3"
  },
  "language_info": {
   "codemirror_mode": {
    "name": "ipython",
    "version": 3
   },
   "file_extension": ".py",
   "mimetype": "text/x-python",
   "name": "python",
   "nbconvert_exporter": "python",
   "pygments_lexer": "ipython3",
   "version": "3.7.1"
  }
 },
 "nbformat": 4,
 "nbformat_minor": 2
}
