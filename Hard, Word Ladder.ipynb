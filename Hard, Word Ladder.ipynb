{
 "cells": [
  {
   "cell_type": "markdown",
   "metadata": {},
   "source": [
    "# BFS approach"
   ]
  },
  {
   "cell_type": "code",
   "execution_count": 3,
   "metadata": {},
   "outputs": [
    {
     "name": "stdout",
     "output_type": "stream",
     "text": [
      "5\n"
     ]
    }
   ],
   "source": [
    "from collections import deque\n",
    "\n",
    "def ladderLength(beginWord, endWord, wordList):\n",
    "    wordSet = set(wordList)\n",
    "    if endWord not in wordSet:\n",
    "        return 0\n",
    "\n",
    "    queue = deque([(beginWord, 1)])\n",
    "    visited = set([beginWord])\n",
    "\n",
    "    while queue:\n",
    "        word, level = queue.popleft()\n",
    "\n",
    "        for i in range(len(word)):\n",
    "            for char in 'abcdefghijklmnopqrstuvwxyz':\n",
    "                next_word = word[:i] + char + word[i+1:]\n",
    "\n",
    "                if next_word == endWord:\n",
    "                    return level + 1\n",
    "\n",
    "                if next_word in wordSet and next_word not in visited:\n",
    "                    visited.add(next_word)\n",
    "                    queue.append((next_word, level + 1))\n",
    "\n",
    "    return 0\n",
    "\n",
    "if __name__ == '__main__':\n",
    "    beginWord = \"hit\"\n",
    "    endWord = \"cog\"\n",
    "    wordList = [\"hot\", \"dot\", \"dog\", \"lot\", \"log\", \"cog\"]\n",
    "    result = ladderLength(beginWord, endWord, wordList)\n",
    "    print(result)  # Output: 5 (hit -> hot -> dot -> dog -> cog)\n"
   ]
  },
  {
   "cell_type": "code",
   "execution_count": null,
   "metadata": {},
   "outputs": [],
   "source": []
  }
 ],
 "metadata": {
  "kernelspec": {
   "display_name": "Python 3",
   "language": "python",
   "name": "python3"
  },
  "language_info": {
   "codemirror_mode": {
    "name": "ipython",
    "version": 3
   },
   "file_extension": ".py",
   "mimetype": "text/x-python",
   "name": "python",
   "nbconvert_exporter": "python",
   "pygments_lexer": "ipython3",
   "version": "3.7.1"
  }
 },
 "nbformat": 4,
 "nbformat_minor": 2
}
