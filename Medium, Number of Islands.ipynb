{
 "cells": [
  {
   "cell_type": "markdown",
   "metadata": {},
   "source": [
    "# BFS approach"
   ]
  },
  {
   "cell_type": "code",
   "execution_count": 1,
   "metadata": {},
   "outputs": [
    {
     "name": "stdout",
     "output_type": "stream",
     "text": [
      "1\n"
     ]
    }
   ],
   "source": [
    "from collections import deque\n",
    "\n",
    "def numIslands(grid):\n",
    "    if not grid or not grid[0]:\n",
    "        return 0\n",
    "\n",
    "    num_rows = len(grid)\n",
    "    num_cols = len(grid[0])\n",
    "    num_islands = 0\n",
    "\n",
    "    # Define the directions for exploring neighboring cells\n",
    "    directions = [(1, 0), (-1, 0), (0, 1), (0, -1)]\n",
    "\n",
    "    def bfs(row, col):\n",
    "        queue = deque([(row, col)])\n",
    "        grid[row][col] = '0'  # Mark the current cell as visited\n",
    "\n",
    "        while queue:\n",
    "            curr_row, curr_col = queue.popleft()\n",
    "\n",
    "            for dr, dc in directions:\n",
    "                new_row, new_col = curr_row + dr, curr_col + dc\n",
    "\n",
    "                # Check if the new cell is within the grid and is unvisited land\n",
    "                if 0 <= new_row < num_rows and 0 <= new_col < num_cols and grid[new_row][new_col] == '1':\n",
    "                    queue.append((new_row, new_col))\n",
    "                    grid[new_row][new_col] = '0'  # Mark the new cell as visited\n",
    "\n",
    "    # Iterate through each cell in the grid\n",
    "    for row in range(num_rows):\n",
    "        for col in range(num_cols):\n",
    "            if grid[row][col] == '1':  # Found an unvisited land cell\n",
    "                num_islands += 1\n",
    "                bfs(row, col)  # Perform BFS to explore the connected land cells\n",
    "\n",
    "    return num_islands\n",
    "\n",
    "if __name__ == '__main__':\n",
    "    grid = [\n",
    "        ['1', '1', '1', '1', '0'],\n",
    "        ['1', '1', '0', '1', '0'],\n",
    "        ['1', '1', '0', '0', '0'],\n",
    "        ['0', '0', '0', '0', '0']\n",
    "    ]\n",
    "\n",
    "    num_of_islands = numIslands(grid)\n",
    "    print(num_of_islands)  # Output: 1\n",
    "\n"
   ]
  },
  {
   "cell_type": "markdown",
   "metadata": {},
   "source": [
    "# BFS approach without deque"
   ]
  },
  {
   "cell_type": "code",
   "execution_count": 2,
   "metadata": {},
   "outputs": [
    {
     "name": "stdout",
     "output_type": "stream",
     "text": [
      "1\n"
     ]
    }
   ],
   "source": [
    "def num_islands(grid):\n",
    "    if not grid or not grid[0]:\n",
    "        return 0\n",
    "\n",
    "    num_rows, num_cols = len(grid), len(grid[0])\n",
    "    visited = [[False for _ in range(num_cols)] for _ in range(num_rows)]\n",
    "    num_islands = 0\n",
    "\n",
    "    def is_valid(x, y):\n",
    "        return 0 <= x < num_rows and 0 <= y < num_cols and grid[x][y] == '1' and not visited[x][y]\n",
    "\n",
    "    def bfs(x, y):\n",
    "        queue = [(x, y)]\n",
    "        visited[x][y] = True\n",
    "\n",
    "        while queue:\n",
    "            x, y = queue.pop(0)\n",
    "            neighbors = [(x - 1, y), (x + 1, y), (x, y - 1), (x, y + 1)]\n",
    "\n",
    "            for nx, ny in neighbors:\n",
    "                if is_valid(nx, ny):\n",
    "                    queue.append((nx, ny))\n",
    "                    visited[nx][ny] = True\n",
    "\n",
    "    for i in range(num_rows):\n",
    "        for j in range(num_cols):\n",
    "            if grid[i][j] == '1' and not visited[i][j]:\n",
    "                bfs(i, j)\n",
    "                num_islands += 1\n",
    "\n",
    "    return num_islands\n",
    "\n",
    "if __name__ == '__main__':\n",
    "    grid = [\n",
    "        ['1', '1', '1', '1', '0'],\n",
    "        ['1', '1', '0', '1', '0'],\n",
    "        ['1', '1', '0', '0', '0'],\n",
    "        ['0', '0', '0', '0', '0']\n",
    "    ]\n",
    "\n",
    "    num_of_islands = num_islands(grid)\n",
    "    print(num_of_islands)  # Output: 1\n",
    "\n",
    "\n"
   ]
  },
  {
   "cell_type": "markdown",
   "metadata": {},
   "source": [
    "# DFS appraoch"
   ]
  },
  {
   "cell_type": "code",
   "execution_count": 3,
   "metadata": {},
   "outputs": [
    {
     "name": "stdout",
     "output_type": "stream",
     "text": [
      "1\n"
     ]
    }
   ],
   "source": [
    "def numIslands(grid):\n",
    "    if not grid or not grid[0]:\n",
    "        return 0\n",
    "\n",
    "    num_rows = len(grid)\n",
    "    num_cols = len(grid[0])\n",
    "    num_islands = 0\n",
    "\n",
    "    def dfs(row, col):\n",
    "        if row < 0 or row >= num_rows or col < 0 or col >= num_cols or grid[row][col] == '0':\n",
    "            return\n",
    "\n",
    "        grid[row][col] = '0'  # Mark the current cell as visited (changing 1 to 0)\n",
    "\n",
    "        # Explore adjacent cells (up, down, left, right)\n",
    "        dfs(row - 1, col)\n",
    "        dfs(row + 1, col)\n",
    "        dfs(row, col - 1)\n",
    "        dfs(row, col + 1)\n",
    "\n",
    "    for row in range(num_rows):\n",
    "        for col in range(num_cols):\n",
    "            if grid[row][col] == '1':\n",
    "                num_islands += 1\n",
    "                dfs(row, col)\n",
    "\n",
    "    return num_islands\n",
    "\n",
    "if __name__ == '__main__':\n",
    "\n",
    "    grid = [\n",
    "        ['1', '1', '1', '1', '0'],\n",
    "        ['1', '1', '0', '1', '0'],\n",
    "        ['1', '1', '0', '0', '0'],\n",
    "        ['0', '0', '0', '0', '0']\n",
    "    ]\n",
    "\n",
    "    num_of_islands = numIslands(grid)\n",
    "    print(num_of_islands)  # Output: 1\n",
    "\n",
    "\n"
   ]
  },
  {
   "cell_type": "markdown",
   "metadata": {},
   "source": [
    "# DFS approach without deque"
   ]
  },
  {
   "cell_type": "code",
   "execution_count": 4,
   "metadata": {},
   "outputs": [
    {
     "name": "stdout",
     "output_type": "stream",
     "text": [
      "1\n"
     ]
    }
   ],
   "source": [
    "def num_islands(grid):\n",
    "    if not grid or not grid[0]:\n",
    "        return 0\n",
    "\n",
    "    num_rows, num_cols = len(grid), len(grid[0])\n",
    "    visited = [[False for _ in range(num_cols)] for _ in range(num_rows)]\n",
    "    num_islands = 0\n",
    "\n",
    "    def is_valid(x, y):\n",
    "        return 0 <= x < num_rows and 0 <= y < num_cols and grid[x][y] == '1' and not visited[x][y]\n",
    "\n",
    "    def dfs(x, y):\n",
    "        if not is_valid(x, y):\n",
    "            return\n",
    "\n",
    "        visited[x][y] = True\n",
    "        neighbors = [(x - 1, y), (x + 1, y), (x, y - 1), (x, y + 1)]\n",
    "\n",
    "        for nx, ny in neighbors:\n",
    "            dfs(nx, ny)\n",
    "\n",
    "    for i in range(num_rows):\n",
    "        for j in range(num_cols):\n",
    "            if grid[i][j] == '1' and not visited[i][j]:\n",
    "                dfs(i, j)\n",
    "                num_islands += 1\n",
    "\n",
    "    return num_islands\n",
    "\n",
    "if __name__ == '__main__':\n",
    "    grid = [\n",
    "        ['1', '1', '1', '1', '0'],\n",
    "        ['1', '1', '0', '1', '0'],\n",
    "        ['1', '1', '0', '0', '0'],\n",
    "        ['0', '0', '0', '0', '0']\n",
    "    ]\n",
    "\n",
    "    num_of_islands = num_islands(grid)\n",
    "    print(num_of_islands)  # Output: 1\n"
   ]
  },
  {
   "cell_type": "code",
   "execution_count": null,
   "metadata": {},
   "outputs": [],
   "source": []
  }
 ],
 "metadata": {
  "kernelspec": {
   "display_name": "Python 3",
   "language": "python",
   "name": "python3"
  },
  "language_info": {
   "codemirror_mode": {
    "name": "ipython",
    "version": 3
   },
   "file_extension": ".py",
   "mimetype": "text/x-python",
   "name": "python",
   "nbconvert_exporter": "python",
   "pygments_lexer": "ipython3",
   "version": "3.7.1"
  }
 },
 "nbformat": 4,
 "nbformat_minor": 2
}
