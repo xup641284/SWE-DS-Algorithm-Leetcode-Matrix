{
 "cells": [
  {
   "cell_type": "markdown",
   "metadata": {},
   "source": [
    "# BFS approach"
   ]
  },
  {
   "cell_type": "code",
   "execution_count": 1,
   "metadata": {},
   "outputs": [
    {
     "name": "stdout",
     "output_type": "stream",
     "text": [
      "[[2, 2, 2, 2, 2], [2, 2, 2, 2, 0], [2, 0, 0, 2, 0], [2, 2, 2, 2, 2]]\n"
     ]
    }
   ],
   "source": [
    "from collections import deque\n",
    "\n",
    "def floodFill(image, sr, sc, newColor):\n",
    "    if not image:\n",
    "        return image\n",
    "\n",
    "    num_rows, num_cols = len(image), len(image[0])\n",
    "    original_color = image[sr][sc]\n",
    "    directions = [(-1, 0), (1, 0), (0, -1), (0, 1)]\n",
    "\n",
    "    if original_color == newColor:\n",
    "        return image  # If the new color is the same as the original color, no change is needed.\n",
    "\n",
    "    queue = deque([(sr, sc)])\n",
    "    image[sr][sc] = newColor  # Change the color of the starting cell\n",
    "\n",
    "    while queue:\n",
    "        row, col = queue.popleft()\n",
    "\n",
    "        for dr, dc in directions:\n",
    "            next_row, next_col = row + dr, col + dc\n",
    "\n",
    "            if 0 <= next_row < num_rows and 0 <= next_col < num_cols and image[next_row][next_col] == original_color:\n",
    "                queue.append((next_row, next_col))\n",
    "                image[next_row][next_col] = newColor  # Change the color of the connected cells\n",
    "\n",
    "    return image\n",
    "\n",
    "if __name__ == '__main__':\n",
    "    image = [\n",
    "        [1, 1, 1, 1, 1],\n",
    "        [1, 1, 1, 1, 0],\n",
    "        [1, 0, 0, 1, 0],\n",
    "        [1, 1, 1, 1, 1]\n",
    "    ]\n",
    "\n",
    "    sr, sc = 1, 2\n",
    "    newColor = 2\n",
    "\n",
    "    result = floodFill(image, sr, sc, newColor)\n",
    "    print(result)\n"
   ]
  },
  {
   "cell_type": "markdown",
   "metadata": {},
   "source": [
    "# DFS approach "
   ]
  },
  {
   "cell_type": "code",
   "execution_count": 2,
   "metadata": {},
   "outputs": [
    {
     "name": "stdout",
     "output_type": "stream",
     "text": [
      "[[2, 2, 2, 2, 2], [2, 2, 2, 2, 0], [2, 0, 0, 2, 0], [2, 2, 2, 2, 2]]\n"
     ]
    }
   ],
   "source": [
    "def floodFill(image, sr, sc, newColor):\n",
    "    if not image:\n",
    "        return image\n",
    "\n",
    "    num_rows, num_cols = len(image), len(image[0])\n",
    "    original_color = image[sr][sc]\n",
    "\n",
    "    def dfs(row, col):\n",
    "        if row < 0 or row >= num_rows or col < 0 or col >= num_cols or image[row][col] != original_color \\\n",
    "        or image[row][col] == newColor:\n",
    "            return\n",
    "\n",
    "        image[row][col] = newColor\n",
    "        dfs(row - 1, col)\n",
    "        dfs(row + 1, col)\n",
    "        dfs(row, col - 1)\n",
    "        dfs(row, col + 1)\n",
    "\n",
    "    dfs(sr, sc)\n",
    "    return image\n",
    "\n",
    "if __name__ == '__main__':\n",
    "    image = [\n",
    "        [1, 1, 1, 1, 1],\n",
    "        [1, 1, 1, 1, 0],\n",
    "        [1, 0, 0, 1, 0],\n",
    "        [1, 1, 1, 1, 1]\n",
    "    ]\n",
    "\n",
    "    sr, sc = 1, 2\n",
    "    newColor = 2\n",
    "\n",
    "    result = floodFill(image, sr, sc, newColor)\n",
    "    print(result)\n"
   ]
  },
  {
   "cell_type": "code",
   "execution_count": null,
   "metadata": {},
   "outputs": [],
   "source": []
  }
 ],
 "metadata": {
  "kernelspec": {
   "display_name": "Python 3",
   "language": "python",
   "name": "python3"
  },
  "language_info": {
   "codemirror_mode": {
    "name": "ipython",
    "version": 3
   },
   "file_extension": ".py",
   "mimetype": "text/x-python",
   "name": "python",
   "nbconvert_exporter": "python",
   "pygments_lexer": "ipython3",
   "version": "3.7.1"
  }
 },
 "nbformat": 4,
 "nbformat_minor": 2
}
