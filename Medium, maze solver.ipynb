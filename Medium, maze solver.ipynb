{
 "cells": [
  {
   "cell_type": "markdown",
   "metadata": {},
   "source": [
    "# DFS approach"
   ]
  },
  {
   "cell_type": "code",
   "execution_count": 4,
   "metadata": {},
   "outputs": [
    {
     "name": "stdout",
     "output_type": "stream",
     "text": [
      "Maze has no valid path.\n"
     ]
    }
   ],
   "source": [
    "def solve_maze(maze):\n",
    "    def dfs(x, y):\n",
    "        if not (0 <= x < len(maze) and 0 <= y < len(maze[0])) or maze[x][y] == 1:\n",
    "            return False\n",
    "        if maze[x][y] == 2:\n",
    "            return True\n",
    "\n",
    "        maze[x][y] = 1  # Mark the cell as visited\n",
    "\n",
    "        # Try all four possible directions: up, down, left, right\n",
    "        if dfs(x + 1, y) or dfs(x - 1, y) or dfs(x, y + 1) or dfs(x, y - 1):\n",
    "            return True\n",
    "\n",
    "        maze[x][y] = 0  # Backtrack: Mark the cell as unvisited\n",
    "        return False\n",
    "\n",
    "    # Find the starting position\n",
    "    for i in range(len(maze)):\n",
    "        for j in range(len(maze[0])):\n",
    "            if maze[i][j] == 3:\n",
    "                start_x, start_y = i, j\n",
    "                break\n",
    "\n",
    "    if dfs(start_x, start_y):\n",
    "        print(\"Maze has a valid path:\")\n",
    "        for row in maze:\n",
    "            print(row)\n",
    "    else:\n",
    "        print(\"Maze has no valid path.\")\n",
    "\n",
    "# Example maze represented as a 2D list:\n",
    "maze = [\n",
    "    [0, 0, 1, 0, 0],\n",
    "    [1, 0, 1, 1, 0],\n",
    "    [0, 0, 0, 1, 0],\n",
    "    [1, 1, 0, 0, 0],\n",
    "    [3, 0, 1, 1, 2],\n",
    "]\n",
    "\n",
    "solve_maze(maze)\n"
   ]
  },
  {
   "cell_type": "code",
   "execution_count": null,
   "metadata": {},
   "outputs": [],
   "source": []
  }
 ],
 "metadata": {
  "kernelspec": {
   "display_name": "Python 3",
   "language": "python",
   "name": "python3"
  },
  "language_info": {
   "codemirror_mode": {
    "name": "ipython",
    "version": 3
   },
   "file_extension": ".py",
   "mimetype": "text/x-python",
   "name": "python",
   "nbconvert_exporter": "python",
   "pygments_lexer": "ipython3",
   "version": "3.7.1"
  }
 },
 "nbformat": 4,
 "nbformat_minor": 2
}
