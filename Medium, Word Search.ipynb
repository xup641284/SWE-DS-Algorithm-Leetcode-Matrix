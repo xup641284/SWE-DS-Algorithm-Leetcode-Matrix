{
 "cells": [
  {
   "cell_type": "markdown",
   "metadata": {},
   "source": [
    "# backtracking"
   ]
  },
  {
   "cell_type": "code",
   "execution_count": 1,
   "metadata": {},
   "outputs": [
    {
     "name": "stdout",
     "output_type": "stream",
     "text": [
      "True\n"
     ]
    }
   ],
   "source": [
    "def exist(board, word):\n",
    "    def backtrack(row, col, index):\n",
    "        if index == len(word):\n",
    "            return True\n",
    "\n",
    "        if row < 0 or row >= m or col < 0 or col >= n or board[row][col] != word[index]:\n",
    "            return False\n",
    "\n",
    "        original_char = board[row][col]\n",
    "        board[row][col] = \"#\"  # Mark the cell as visited\n",
    "\n",
    "        found = (backtrack(row + 1, col, index + 1) or\n",
    "                 backtrack(row - 1, col, index + 1) or\n",
    "                 backtrack(row, col + 1, index + 1) or\n",
    "                 backtrack(row, col - 1, index + 1))\n",
    "\n",
    "        board[row][col] = original_char  # Unmark the cell\n",
    "\n",
    "        return found\n",
    "\n",
    "    m, n = len(board), len(board[0])\n",
    "    for i in range(m):\n",
    "        for j in range(n):\n",
    "            if board[i][j] == word[0] and backtrack(i, j, 0):\n",
    "                return True\n",
    "\n",
    "    return False\n",
    "\n",
    "board = [\n",
    "    ['A','B','C','E'],\n",
    "    ['S','F','C','S'],\n",
    "    ['A','D','E','E']\n",
    "]\n",
    "word = \"ABCCED\"\n",
    "\n",
    "result = exist(board, word)\n",
    "print(result)  # Output: True\n"
   ]
  },
  {
   "cell_type": "code",
   "execution_count": null,
   "metadata": {},
   "outputs": [],
   "source": []
  }
 ],
 "metadata": {
  "kernelspec": {
   "display_name": "Python 3",
   "language": "python",
   "name": "python3"
  },
  "language_info": {
   "codemirror_mode": {
    "name": "ipython",
    "version": 3
   },
   "file_extension": ".py",
   "mimetype": "text/x-python",
   "name": "python",
   "nbconvert_exporter": "python",
   "pygments_lexer": "ipython3",
   "version": "3.7.1"
  }
 },
 "nbformat": 4,
 "nbformat_minor": 2
}
