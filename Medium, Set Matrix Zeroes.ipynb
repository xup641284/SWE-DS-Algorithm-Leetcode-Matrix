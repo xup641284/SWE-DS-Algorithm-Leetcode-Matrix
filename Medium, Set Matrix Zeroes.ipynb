{
 "cells": [
  {
   "cell_type": "code",
   "execution_count": 1,
   "metadata": {},
   "outputs": [
    {
     "name": "stdout",
     "output_type": "stream",
     "text": [
      "[1, 0, 1]\n",
      "[0, 0, 0]\n",
      "[1, 0, 1]\n"
     ]
    }
   ],
   "source": [
    "def set_zeroes(matrix):\n",
    "    rows, cols = len(matrix), len(matrix[0])\n",
    "    zero_first_row, zero_first_col = False, False\n",
    "\n",
    "    # Check if there are any zeros in the first row and first column\n",
    "    for i in range(rows):\n",
    "        if matrix[i][0] == 0:\n",
    "            zero_first_col = True\n",
    "            break\n",
    "    for j in range(cols):\n",
    "        if matrix[0][j] == 0:\n",
    "            zero_first_row = True\n",
    "            break\n",
    "\n",
    "    # Mark zeros in the first row and first column\n",
    "    for i in range(1, rows):\n",
    "        for j in range(1, cols):\n",
    "            if matrix[i][j] == 0:\n",
    "                matrix[i][0] = 0\n",
    "                matrix[0][j] = 0\n",
    "\n",
    "    # Set rows and columns to zero based on first row and first column marks\n",
    "    for i in range(1, rows):\n",
    "        for j in range(1, cols):\n",
    "            if matrix[i][0] == 0 or matrix[0][j] == 0:\n",
    "                matrix[i][j] = 0\n",
    "\n",
    "    # Set the first row and first column to zero if necessary\n",
    "    if zero_first_row:\n",
    "        for j in range(cols):\n",
    "            matrix[0][j] = 0\n",
    "    if zero_first_col:\n",
    "        for i in range(rows):\n",
    "            matrix[i][0] = 0\n",
    "\n",
    "# Example usage:\n",
    "matrix = [\n",
    "    [1, 1, 1],\n",
    "    [1, 0, 1],\n",
    "    [1, 1, 1]\n",
    "]\n",
    "\n",
    "set_zeroes(matrix)\n",
    "\n",
    "for row in matrix:\n",
    "    print(row)\n",
    "# Output:\n",
    "# [1, 0, 1]\n",
    "# [0, 0, 0]\n",
    "# [1, 0, 1]\n"
   ]
  },
  {
   "cell_type": "code",
   "execution_count": null,
   "metadata": {},
   "outputs": [],
   "source": []
  }
 ],
 "metadata": {
  "kernelspec": {
   "display_name": "Python 3",
   "language": "python",
   "name": "python3"
  },
  "language_info": {
   "codemirror_mode": {
    "name": "ipython",
    "version": 3
   },
   "file_extension": ".py",
   "mimetype": "text/x-python",
   "name": "python",
   "nbconvert_exporter": "python",
   "pygments_lexer": "ipython3",
   "version": "3.7.1"
  }
 },
 "nbformat": 4,
 "nbformat_minor": 2
}
